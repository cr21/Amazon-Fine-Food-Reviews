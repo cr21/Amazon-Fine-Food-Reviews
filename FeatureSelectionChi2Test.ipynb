{
  "nbformat": 4,
  "nbformat_minor": 0,
  "metadata": {
    "colab": {
      "name": "FeatureSelectionChi2Test.ipynb",
      "provenance": [],
      "collapsed_sections": [],
      "authorship_tag": "ABX9TyM5xHB1MigQgJBAF6+kLmt7",
      "include_colab_link": true
    },
    "kernelspec": {
      "name": "python3",
      "display_name": "Python 3"
    }
  },
  "cells": [
    {
      "cell_type": "markdown",
      "metadata": {
        "id": "view-in-github",
        "colab_type": "text"
      },
      "source": [
        "<a href=\"https://colab.research.google.com/github/cr21/Amazon-Fine-Food-Reviews/blob/master/FeatureSelectionChi2Test.ipynb\" target=\"_parent\"><img src=\"https://colab.research.google.com/assets/colab-badge.svg\" alt=\"Open In Colab\"/></a>"
      ]
    },
    {
      "cell_type": "code",
      "metadata": {
        "id": "8tyhxZ37BOMX",
        "colab": {
          "base_uri": "https://localhost:8080/"
        },
        "outputId": "a3c1bef5-6271-4365-ae8a-b60d74fcf410"
      },
      "source": [
        "from google.colab import drive\n",
        "drive.mount(\"/content/drive\")"
      ],
      "execution_count": 1,
      "outputs": [
        {
          "output_type": "stream",
          "text": [
            "Mounted at /content/drive\n"
          ],
          "name": "stdout"
        }
      ]
    },
    {
      "cell_type": "code",
      "metadata": {
        "colab": {
          "base_uri": "https://localhost:8080/"
        },
        "id": "oHpqstLq17_l",
        "outputId": "692db2ec-056b-45bd-8110-9bbc8eaede77"
      },
      "source": [
        "cd drive/MyDrive/Dataset/"
      ],
      "execution_count": 3,
      "outputs": [
        {
          "output_type": "stream",
          "text": [
            "[Errno 2] No such file or directory: 'drive/MyDrive/Dataset/'\n",
            "/content/drive/MyDrive/Dataset\n"
          ],
          "name": "stdout"
        }
      ]
    },
    {
      "cell_type": "code",
      "metadata": {
        "id": "yTLOlUBl13Ma"
      },
      "source": [
        "import numpy as np\n",
        "import pandas as pd\n",
        "import matplotlib.pyplot as plt\n",
        "from sklearn.metrics.pairwise import euclidean_distances\n",
        "from sklearn.datasets import fetch_openml\n",
        "from sklearn.preprocessing import StandardScaler\n",
        "from sklearn.metrics import pairwise_distances\n",
        "from sklearn.datasets import fetch_20newsgroups\n",
        "from sklearn.feature_extraction.text import TfidfVectorizer\n",
        "from sklearn.feature_selection import SelectKBest\n",
        "from sklearn.feature_selection import chi2\n",
        "from sklearn.linear_model import LogisticRegression\n",
        "from sklearn.model_selection import  train_test_split\n",
        "from sklearn.model_selection import cross_val_score\n",
        "from sklearn.tree import DecisionTreeClassifier\n",
        "from sklearn.feature_selection  import mutual_info_classif\n",
        "from sklearn import linear_model"
      ],
      "execution_count": 127,
      "outputs": []
    },
    {
      "cell_type": "markdown",
      "metadata": {
        "id": "fq9QA1-UCDyh"
      },
      "source": [
        "# Feature Selection using Chi2 Test"
      ]
    },
    {
      "cell_type": "code",
      "metadata": {
        "id": "EjOhn6ES2Du4"
      },
      "source": [
        "# Load 20 News Group dataset and split train and test data\n",
        "def load20NG():\n",
        "  dataset = fetch_20newsgroups(subset='all', remove=('headers','footers','quotes'), random_state= 12)\n",
        "  data = dataset.data\n",
        "  labels = dataset.target\n",
        "\n",
        "  vectorizer = TfidfVectorizer(stop_words='english',min_df = 5)\n",
        "\n",
        "  # # vectorize train data\n",
        "  ngVectorData = vectorizer.fit_transform(data)\n",
        "  featureNames = vectorizer.get_feature_names()\n",
        "  return data, labels, ngVectorData, featureNames\n",
        "data, labels, ng20Data, ng20featureNames = load20NG()\n",
        "X_train, X_test, y_train, y_test = train_test_split(ng20Data, labels, test_size=0.33, random_state=42)"
      ],
      "execution_count": 125,
      "outputs": []
    },
    {
      "cell_type": "code",
      "metadata": {
        "id": "i4XS11vN2S1E"
      },
      "source": [
        "Transformed_200_X_train = SelectKBest(chi2, k=200).fit_transform(X_train, y_train)"
      ],
      "execution_count": 238,
      "outputs": []
    },
    {
      "cell_type": "code",
      "metadata": {
        "id": "jNe5I-j650N7"
      },
      "source": [
        "Transformed_200_X_test = SelectKBest(chi2, k =200).fit_transform(X_test,y_test)"
      ],
      "execution_count": 239,
      "outputs": []
    },
    {
      "cell_type": "code",
      "metadata": {
        "colab": {
          "base_uri": "https://localhost:8080/"
        },
        "id": "7z76bm5m5j07",
        "outputId": "36fd16a1-dafa-4f6e-b58b-3168150521d3"
      },
      "source": [
        "ngClassfier = LogisticRegression(penalty='l2', tol =0.0001, C = 1.0,n_jobs=-1)\n",
        "ngClassfier.fit(Transformed_200_X_train, y_train)\n"
      ],
      "execution_count": 240,
      "outputs": [
        {
          "output_type": "execute_result",
          "data": {
            "text/plain": [
              "LogisticRegression(C=1.0, class_weight=None, dual=False, fit_intercept=True,\n",
              "                   intercept_scaling=1, l1_ratio=None, max_iter=100,\n",
              "                   multi_class='auto', n_jobs=-1, penalty='l2',\n",
              "                   random_state=None, solver='lbfgs', tol=0.0001, verbose=0,\n",
              "                   warm_start=False)"
            ]
          },
          "metadata": {
            "tags": []
          },
          "execution_count": 240
        }
      ]
    },
    {
      "cell_type": "code",
      "metadata": {
        "colab": {
          "base_uri": "https://localhost:8080/"
        },
        "id": "PBo--qdj5oka",
        "outputId": "ee4465f9-7f00-414a-f23c-a22cde4680f1"
      },
      "source": [
        "# training error\n",
        "print(f\" training Error : {ngClassfier.score(Transformed_200_X_train, y_train)}\")"
      ],
      "execution_count": 241,
      "outputs": [
        {
          "output_type": "stream",
          "text": [
            " training Error : 0.5355615396800253\n"
          ],
          "name": "stdout"
        }
      ]
    },
    {
      "cell_type": "code",
      "metadata": {
        "colab": {
          "base_uri": "https://localhost:8080/"
        },
        "id": "MObp1X6t5wx9",
        "outputId": "ee35fbc8-5bb7-43bb-84e4-1f243e4b1a1f"
      },
      "source": [
        "#testing error\n",
        "print(f\" testing Error : {ngClassfier.score(Transformed_200_X_test, y_test)}\")"
      ],
      "execution_count": 242,
      "outputs": [
        {
          "output_type": "stream",
          "text": [
            " testing Error : 0.09212218649517685\n"
          ],
          "name": "stdout"
        }
      ]
    },
    {
      "cell_type": "markdown",
      "metadata": {
        "id": "uChRGr5q9BAh"
      },
      "source": [
        "# Mutual Information for Feature Selection"
      ]
    },
    {
      "cell_type": "code",
      "metadata": {
        "id": "Fa4_XBmi9DpZ"
      },
      "source": [
        "feature_scores = mutual_info_classif(X_train, y_train, random_state=0)"
      ],
      "execution_count": 243,
      "outputs": []
    },
    {
      "cell_type": "code",
      "metadata": {
        "id": "48BnJh5gMhef"
      },
      "source": [
        "Transformed_200_X_train = SelectKBest(mutual_info_classif, k=200).fit_transform(X_train, y_train)\n"
      ],
      "execution_count": 244,
      "outputs": []
    },
    {
      "cell_type": "code",
      "metadata": {
        "id": "YyRalwhNMmwI"
      },
      "source": [
        "Transformed_200_X_test = SelectKBest(mutual_info_classif, k =200).fit_transform(X_test,y_test)"
      ],
      "execution_count": 245,
      "outputs": []
    },
    {
      "cell_type": "code",
      "metadata": {
        "colab": {
          "base_uri": "https://localhost:8080/"
        },
        "id": "cpErfHT7SYC3",
        "outputId": "6e52ef1b-f11a-4f3f-92f4-fe795c5df99e"
      },
      "source": [
        "ngClassfier = LogisticRegression(penalty='l2', tol =0.0001, C = 1.0,n_jobs=-1)\n",
        "ngClassfier.fit(Transformed_200_X_train, y_train)\n"
      ],
      "execution_count": 246,
      "outputs": [
        {
          "output_type": "execute_result",
          "data": {
            "text/plain": [
              "LogisticRegression(C=1.0, class_weight=None, dual=False, fit_intercept=True,\n",
              "                   intercept_scaling=1, l1_ratio=None, max_iter=100,\n",
              "                   multi_class='auto', n_jobs=-1, penalty='l2',\n",
              "                   random_state=None, solver='lbfgs', tol=0.0001, verbose=0,\n",
              "                   warm_start=False)"
            ]
          },
          "metadata": {
            "tags": []
          },
          "execution_count": 246
        }
      ]
    },
    {
      "cell_type": "code",
      "metadata": {
        "colab": {
          "base_uri": "https://localhost:8080/"
        },
        "id": "Z_elXut5Seb7",
        "outputId": "33a054ae-fcc5-4dac-de16-23f1b1c2e35c"
      },
      "source": [
        "# training error\n",
        "print(f\" training Error : {ngClassfier.score(Transformed_200_X_train, y_train)}\")"
      ],
      "execution_count": 247,
      "outputs": [
        {
          "output_type": "stream",
          "text": [
            " training Error : 0.3446063678124505\n"
          ],
          "name": "stdout"
        }
      ]
    },
    {
      "cell_type": "code",
      "metadata": {
        "colab": {
          "base_uri": "https://localhost:8080/"
        },
        "id": "hTXb4HOBSlj5",
        "outputId": "4dd83015-d857-437d-fac0-9b271b0495c1"
      },
      "source": [
        "# training error\n",
        "print(f\" training Error : {ngClassfier.score(Transformed_200_X_test, y_test)}\")"
      ],
      "execution_count": 248,
      "outputs": [
        {
          "output_type": "stream",
          "text": [
            " training Error : 0.13167202572347267\n"
          ],
          "name": "stdout"
        }
      ]
    },
    {
      "cell_type": "code",
      "metadata": {
        "colab": {
          "base_uri": "https://localhost:8080/"
        },
        "id": "SODDnmZs9eHa",
        "outputId": "7c9f9732-b86b-444f-b83a-678d162c4489"
      },
      "source": [
        "# Top 200 features\n",
        "sorted_ngFeatureList = np.argsort(feature_scores)\n",
        "reverse_sorted_ngFeatureList = sorted_ngFeatureList[::-1]\n",
        "top200 = reverse_sorted_ngFeatureList[:200]\n",
        "for id, featureId in enumerate(top200):\n",
        "  featureNameList = np.array(ng20featureNames)[featureId]\n",
        "  print(f\" id : {id} , feature name : {featureNameList}\")\n"
      ],
      "execution_count": 249,
      "outputs": [
        {
          "output_type": "stream",
          "text": [
            " id : 0 , feature name : like\n",
            " id : 1 , feature name : just\n",
            " id : 2 , feature name : don\n",
            " id : 3 , feature name : know\n",
            " id : 4 , feature name : think\n",
            " id : 5 , feature name : people\n",
            " id : 6 , feature name : does\n",
            " id : 7 , feature name : time\n",
            " id : 8 , feature name : use\n",
            " id : 9 , feature name : good\n",
            " id : 10 , feature name : way\n",
            " id : 11 , feature name : make\n",
            " id : 12 , feature name : new\n",
            " id : 13 , feature name : ve\n",
            " id : 14 , feature name : used\n",
            " id : 15 , feature name : want\n",
            " id : 16 , feature name : say\n",
            " id : 17 , feature name : right\n",
            " id : 18 , feature name : need\n",
            " id : 19 , feature name : did\n",
            " id : 20 , feature name : thanks\n",
            " id : 21 , feature name : really\n",
            " id : 22 , feature name : work\n",
            " id : 23 , feature name : problem\n",
            " id : 24 , feature name : edu\n",
            " id : 25 , feature name : using\n",
            " id : 26 , feature name : believe\n",
            " id : 27 , feature name : point\n",
            " id : 28 , feature name : sure\n",
            " id : 29 , feature name : things\n",
            " id : 30 , feature name : years\n",
            " id : 31 , feature name : help\n",
            " id : 32 , feature name : ll\n",
            " id : 33 , feature name : better\n",
            " id : 34 , feature name : going\n",
            " id : 35 , feature name : doesn\n",
            " id : 36 , feature name : got\n",
            " id : 37 , feature name : said\n",
            " id : 38 , feature name : read\n",
            " id : 39 , feature name : thing\n",
            " id : 40 , feature name : probably\n",
            " id : 41 , feature name : let\n",
            " id : 42 , feature name : long\n",
            " id : 43 , feature name : look\n",
            " id : 44 , feature name : question\n",
            " id : 45 , feature name : fact\n",
            " id : 46 , feature name : year\n",
            " id : 47 , feature name : little\n",
            " id : 48 , feature name : come\n",
            " id : 49 , feature name : case\n",
            " id : 50 , feature name : mail\n",
            " id : 51 , feature name : try\n",
            " id : 52 , feature name : actually\n",
            " id : 53 , feature name : 10\n",
            " id : 54 , feature name : course\n",
            " id : 55 , feature name : best\n",
            " id : 56 , feature name : number\n",
            " id : 57 , feature name : different\n",
            " id : 58 , feature name : didn\n",
            " id : 59 , feature name : far\n",
            " id : 60 , feature name : tell\n",
            " id : 61 , feature name : information\n",
            " id : 62 , feature name : bit\n",
            " id : 63 , feature name : lot\n",
            " id : 64 , feature name : world\n",
            " id : 65 , feature name : possible\n",
            " id : 66 , feature name : post\n",
            " id : 67 , feature name : day\n",
            " id : 68 , feature name : looking\n",
            " id : 69 , feature name : called\n",
            " id : 70 , feature name : god\n",
            " id : 71 , feature name : set\n",
            " id : 72 , feature name : real\n",
            " id : 73 , feature name : windows\n",
            " id : 74 , feature name : able\n",
            " id : 75 , feature name : com\n",
            " id : 76 , feature name : great\n",
            " id : 77 , feature name : true\n",
            " id : 78 , feature name : old\n",
            " id : 79 , feature name : seen\n",
            " id : 80 , feature name : run\n",
            " id : 81 , feature name : having\n",
            " id : 82 , feature name : end\n",
            " id : 83 , feature name : power\n",
            " id : 84 , feature name : high\n",
            " id : 85 , feature name : following\n",
            " id : 86 , feature name : yes\n",
            " id : 87 , feature name : second\n",
            " id : 88 , feature name : quite\n",
            " id : 89 , feature name : available\n",
            " id : 90 , feature name : hard\n",
            " id : 91 , feature name : thought\n",
            " id : 92 , feature name : reason\n",
            " id : 93 , feature name : maybe\n",
            " id : 94 , feature name : trying\n",
            " id : 95 , feature name : place\n",
            " id : 96 , feature name : wrong\n",
            " id : 97 , feature name : mean\n",
            " id : 98 , feature name : isn\n",
            " id : 99 , feature name : program\n",
            " id : 100 , feature name : government\n",
            " id : 101 , feature name : getting\n",
            " id : 102 , feature name : line\n",
            " id : 103 , feature name : group\n",
            " id : 104 , feature name : 20\n",
            " id : 105 , feature name : bad\n",
            " id : 106 , feature name : non\n",
            " id : 107 , feature name : example\n",
            " id : 108 , feature name : doing\n",
            " id : 109 , feature name : state\n",
            " id : 110 , feature name : kind\n",
            " id : 111 , feature name : heard\n",
            " id : 112 , feature name : given\n",
            " id : 113 , feature name : order\n",
            " id : 114 , feature name : life\n",
            " id : 115 , feature name : person\n",
            " id : 116 , feature name : idea\n",
            " id : 117 , feature name : support\n",
            " id : 118 , feature name : problems\n",
            " id : 119 , feature name : won\n",
            " id : 120 , feature name : times\n",
            " id : 121 , feature name : means\n",
            " id : 122 , feature name : drive\n",
            " id : 123 , feature name : start\n",
            " id : 124 , feature name : software\n",
            " id : 125 , feature name : 15\n",
            " id : 126 , feature name : based\n",
            " id : 127 , feature name : interested\n",
            " id : 128 , feature name : big\n",
            " id : 129 , feature name : ago\n",
            " id : 130 , feature name : makes\n",
            " id : 131 , feature name : away\n",
            " id : 132 , feature name : data\n",
            " id : 133 , feature name : send\n",
            " id : 134 , feature name : email\n",
            " id : 135 , feature name : remember\n",
            " id : 136 , feature name : free\n",
            " id : 137 , feature name : list\n",
            " id : 138 , feature name : change\n",
            " id : 139 , feature name : pretty\n",
            " id : 140 , feature name : file\n",
            " id : 141 , feature name : computer\n",
            " id : 142 , feature name : 30\n",
            " id : 143 , feature name : ask\n",
            " id : 144 , feature name : small\n",
            " id : 145 , feature name : game\n",
            " id : 146 , feature name : general\n",
            " id : 147 , feature name : man\n",
            " id : 148 , feature name : says\n",
            " id : 149 , feature name : works\n",
            " id : 150 , feature name : version\n",
            " id : 151 , feature name : left\n",
            " id : 152 , feature name : public\n",
            " id : 153 , feature name : original\n",
            " id : 154 , feature name : hope\n",
            " id : 155 , feature name : 16\n",
            " id : 156 , feature name : large\n",
            " id : 157 , feature name : control\n",
            " id : 158 , feature name : note\n",
            " id : 159 , feature name : 12\n",
            " id : 160 , feature name : running\n",
            " id : 161 , feature name : stuff\n",
            " id : 162 , feature name : local\n",
            " id : 163 , feature name : article\n",
            " id : 164 , feature name : law\n",
            " id : 165 , feature name : book\n",
            " id : 166 , feature name : came\n",
            " id : 167 , feature name : instead\n",
            " id : 168 , feature name : comes\n",
            " id : 169 , feature name : subject\n",
            " id : 170 , feature name : space\n",
            " id : 171 , feature name : hand\n",
            " id : 172 , feature name : agree\n",
            " id : 173 , feature name : feel\n",
            " id : 174 , feature name : simply\n",
            " id : 175 , feature name : 50\n",
            " id : 176 , feature name : answer\n",
            " id : 177 , feature name : matter\n",
            " id : 178 , feature name : understand\n",
            " id : 179 , feature name : saying\n",
            " id : 180 , feature name : car\n",
            " id : 181 , feature name : questions\n",
            " id : 182 , feature name : issue\n",
            " id : 183 , feature name : card\n",
            " id : 184 , feature name : today\n",
            " id : 185 , feature name : making\n",
            " id : 186 , feature name : including\n",
            " id : 187 , feature name : home\n",
            " id : 188 , feature name : tried\n",
            " id : 189 , feature name : days\n",
            " id : 190 , feature name : word\n",
            " id : 191 , feature name : advance\n",
            " id : 192 , feature name : hi\n",
            " id : 193 , feature name : guess\n",
            " id : 194 , feature name : source\n",
            " id : 195 , feature name : wouldn\n",
            " id : 196 , feature name : 100\n",
            " id : 197 , feature name : mind\n",
            " id : 198 , feature name : money\n",
            " id : 199 , feature name : news\n"
          ],
          "name": "stdout"
        }
      ]
    },
    {
      "cell_type": "code",
      "metadata": {
        "id": "50L3AXGs_mJ_"
      },
      "source": [
        "top200XTrain = X_train[:,top200 ]\n",
        "top200XTest = X_test[:, top200]"
      ],
      "execution_count": 250,
      "outputs": []
    },
    {
      "cell_type": "code",
      "metadata": {
        "colab": {
          "base_uri": "https://localhost:8080/"
        },
        "id": "8RHMIvDfBDGB",
        "outputId": "3be20528-e0fa-4c4c-b1c4-305f796a73c4"
      },
      "source": [
        "ngClassfier = LogisticRegression(penalty='l2', tol =0.0001, C = 1.0,n_jobs=-1)\n",
        "ngClassfier.fit(top200XTrain, y_train)\n"
      ],
      "execution_count": 251,
      "outputs": [
        {
          "output_type": "execute_result",
          "data": {
            "text/plain": [
              "LogisticRegression(C=1.0, class_weight=None, dual=False, fit_intercept=True,\n",
              "                   intercept_scaling=1, l1_ratio=None, max_iter=100,\n",
              "                   multi_class='auto', n_jobs=-1, penalty='l2',\n",
              "                   random_state=None, solver='lbfgs', tol=0.0001, verbose=0,\n",
              "                   warm_start=False)"
            ]
          },
          "metadata": {
            "tags": []
          },
          "execution_count": 251
        }
      ]
    },
    {
      "cell_type": "code",
      "metadata": {
        "colab": {
          "base_uri": "https://localhost:8080/"
        },
        "id": "qGaC4d30A-9u",
        "outputId": "2d30d8d6-7ef2-420a-b736-5ff34092c676"
      },
      "source": [
        "# training error\n",
        "print(f\" training Error : {ngClassfier.score(top200XTrain, y_train)}\")"
      ],
      "execution_count": 252,
      "outputs": [
        {
          "output_type": "stream",
          "text": [
            " training Error : 0.3446063678124505\n"
          ],
          "name": "stdout"
        }
      ]
    },
    {
      "cell_type": "code",
      "metadata": {
        "colab": {
          "base_uri": "https://localhost:8080/"
        },
        "id": "RV3LZafO_bd7",
        "outputId": "09fe6d4d-20e5-440a-8c65-ce6a71fde245"
      },
      "source": [
        "#testing error\n",
        "print(f\" testing Error : {ngClassfier.score(top200XTest, y_test)}\")"
      ],
      "execution_count": 253,
      "outputs": [
        {
          "output_type": "stream",
          "text": [
            " testing Error : 0.30884244372990355\n"
          ],
          "name": "stdout"
        }
      ]
    },
    {
      "cell_type": "markdown",
      "metadata": {
        "id": "4uuRcLGyCW-q"
      },
      "source": [
        "# L1 feature selection on text"
      ]
    },
    {
      "cell_type": "code",
      "metadata": {
        "colab": {
          "base_uri": "https://localhost:8080/"
        },
        "id": "tke_RZioCWiw",
        "outputId": "e8fb977d-a41c-4505-a8f7-bee9551e7bd5"
      },
      "source": [
        "ngClassfierL1 = LogisticRegression(penalty='l1', tol =0.001, C = 1.0,n_jobs=-1, solver='saga',max_iter = 100)\n",
        "ngClassfierL1.fit(X_train, y_train)\n"
      ],
      "execution_count": 254,
      "outputs": [
        {
          "output_type": "stream",
          "text": [
            "/usr/local/lib/python3.7/dist-packages/sklearn/linear_model/_sag.py:330: ConvergenceWarning: The max_iter was reached which means the coef_ did not converge\n",
            "  \"the coef_ did not converge\", ConvergenceWarning)\n"
          ],
          "name": "stderr"
        },
        {
          "output_type": "execute_result",
          "data": {
            "text/plain": [
              "LogisticRegression(C=1.0, class_weight=None, dual=False, fit_intercept=True,\n",
              "                   intercept_scaling=1, l1_ratio=None, max_iter=100,\n",
              "                   multi_class='auto', n_jobs=-1, penalty='l1',\n",
              "                   random_state=None, solver='saga', tol=0.001, verbose=0,\n",
              "                   warm_start=False)"
            ]
          },
          "metadata": {
            "tags": []
          },
          "execution_count": 254
        }
      ]
    },
    {
      "cell_type": "code",
      "metadata": {
        "colab": {
          "base_uri": "https://localhost:8080/"
        },
        "id": "aiPdi7DmEkXM",
        "outputId": "a9937057-e8c8-4996-ff7d-961b59babe90"
      },
      "source": [
        "clf = linear_model.Lasso(alpha=0.01,max_iter=2)\n",
        "clf.fit(X_train,y_train)"
      ],
      "execution_count": 255,
      "outputs": [
        {
          "output_type": "stream",
          "text": [
            "/usr/local/lib/python3.7/dist-packages/sklearn/linear_model/_coordinate_descent.py:460: ConvergenceWarning: Objective did not converge. You might want to increase the number of iterations. Duality gap: 3323.7840081453323, tolerance: 39.247570893394574\n",
            "  max_iter, tol, rng, random, positive)\n"
          ],
          "name": "stderr"
        },
        {
          "output_type": "execute_result",
          "data": {
            "text/plain": [
              "Lasso(alpha=0.01, copy_X=True, fit_intercept=True, max_iter=2, normalize=False,\n",
              "      positive=False, precompute=False, random_state=None, selection='cyclic',\n",
              "      tol=0.0001, warm_start=False)"
            ]
          },
          "metadata": {
            "tags": []
          },
          "execution_count": 255
        }
      ]
    },
    {
      "cell_type": "code",
      "metadata": {
        "colab": {
          "base_uri": "https://localhost:8080/"
        },
        "id": "ft-eLJ13G8WG",
        "outputId": "1ff641a0-98c5-4e7e-9694-e384181a8fc3"
      },
      "source": [
        "sorted_ngFeatureList = np.argsort(clf.coef_)\n",
        "reverse_sorted_ngFeatureList = sorted_ngFeatureList[::-1]\n",
        "top200 = reverse_sorted_ngFeatureList[:200]\n",
        "for id, featureId in enumerate(top200):\n",
        "  featureNameList = np.array(ng20featureNames)[featureId]\n",
        "  print(f\" id : {id} , feature name : {featureNameList}\")"
      ],
      "execution_count": 256,
      "outputs": [
        {
          "output_type": "stream",
          "text": [
            " id : 0 , feature name : people\n",
            " id : 1 , feature name : israel\n",
            " id : 2 , feature name : government\n",
            " id : 3 , feature name : gun\n",
            " id : 4 , feature name : children\n",
            " id : 5 , feature name : fbi\n",
            " id : 6 , feature name : jews\n",
            " id : 7 , feature name : jesus\n",
            " id : 8 , feature name : god\n",
            " id : 9 , feature name : did\n",
            " id : 10 , feature name : space\n",
            " id : 11 , feature name : dy\n",
            " id : 12 , feature name : e3\n",
            " id : 13 , feature name : dx50\n",
            " id : 14 , feature name : e5\n",
            " id : 15 , feature name : dx2\n",
            " id : 16 , feature name : e6\n",
            " id : 17 , feature name : e7\n",
            " id : 18 , feature name : e8\n",
            " id : 19 , feature name : e9\n",
            " id : 20 , feature name : e_\n",
            " id : 21 , feature name : ea\n",
            " id : 22 , feature name : dx\n",
            " id : 23 , feature name : eachus\n",
            " id : 24 , feature name : eager\n",
            " id : 25 , feature name : eagerly\n",
            " id : 26 , feature name : eagle\n",
            " id : 27 , feature name : eagles\n",
            " id : 28 , feature name : ear\n",
            " id : 29 , feature name : e4\n",
            " id : 30 , feature name : e2\n",
            " id : 31 , feature name : dye\n",
            " id : 32 , feature name : e1t\n",
            " id : 33 , feature name : dyer\n",
            " id : 34 , feature name : dying\n",
            " id : 35 , feature name : dykstra\n",
            " id : 36 , feature name : dxf\n",
            " id : 37 , feature name : dylan\n",
            " id : 38 , feature name : dynamic\n",
            " id : 39 , feature name : dynamically\n",
            " id : 40 , feature name : dynamics\n",
            " id : 41 , feature name : dynamite\n",
            " id : 42 , feature name : dynasty\n",
            " id : 43 , feature name : dysfunction\n",
            " id : 44 , feature name : dysfunctional\n",
            " id : 45 , feature name : dz\n",
            " id : 46 , feature name : earl\n",
            " id : 47 , feature name : e1\n",
            " id : 48 , feature name : e145\n",
            " id : 49 , feature name : e14di\n",
            " id : 50 , feature name : e0\n",
            " id : 51 , feature name : earlier\n",
            " id : 52 , feature name : dwi\n",
            " id : 53 , feature name : ecb\n",
            " id : 54 , feature name : eaten\n",
            " id : 55 , feature name : eater\n",
            " id : 56 , feature name : eating\n",
            " id : 57 , feature name : eats\n",
            " id : 58 , feature name : eavesdrop\n",
            " id : 59 , feature name : eavesdropper\n",
            " id : 60 , feature name : eavesdropping\n",
            " id : 61 , feature name : eb\n",
            " id : 62 , feature name : ec\n",
            " id : 63 , feature name : ecc\n",
            " id : 64 , feature name : easy\n",
            " id : 65 , feature name : eccentric\n",
            " id : 66 , feature name : ecclesiastes\n",
            " id : 67 , feature name : ecclesiastical\n",
            " id : 68 , feature name : ece\n",
            " id : 69 , feature name : ecf\n",
            " id : 70 , feature name : ecg\n",
            " id : 71 , feature name : echo\n",
            " id : 72 , feature name : echoed\n",
            " id : 73 , feature name : echoes\n",
            " id : 74 , feature name : eat\n",
            " id : 75 , feature name : eastwood\n",
            " id : 76 , feature name : earliest\n",
            " id : 77 , feature name : earth\n",
            " id : 78 , feature name : early\n",
            " id : 79 , feature name : earn\n",
            " id : 80 , feature name : earned\n",
            " id : 81 , feature name : earnest\n",
            " id : 82 , feature name : earnestly\n",
            " id : 83 , feature name : earning\n",
            " id : 84 , feature name : earnings\n",
            " id : 85 , feature name : earns\n",
            " id : 86 , feature name : ears\n",
            " id : 87 , feature name : earthers\n",
            " id : 88 , feature name : eastern\n",
            " id : 89 , feature name : earthly\n",
            " id : 90 , feature name : earthquake\n",
            " id : 91 , feature name : earths\n",
            " id : 92 , feature name : ease\n",
            " id : 93 , feature name : easier\n",
            " id : 94 , feature name : easiest\n",
            " id : 95 , feature name : easily\n",
            " id : 96 , feature name : east\n",
            " id : 97 , feature name : easter\n",
            " id : 98 , feature name : dwyer\n",
            " id : 99 , feature name : dwell\n",
            " id : 100 , feature name : dwellings\n",
            " id : 101 , feature name : dts\n",
            " id : 102 , feature name : dsu\n",
            " id : 103 , feature name : dt\n",
            " id : 104 , feature name : dtc\n",
            " id : 105 , feature name : dte\n",
            " id : 106 , feature name : dtk\n",
            " id : 107 , feature name : dtmedin\n",
            " id : 108 , feature name : dtmf\n",
            " id : 109 , feature name : dtp\n",
            " id : 110 , feature name : dtr\n",
            " id : 111 , feature name : du\n",
            " id : 112 , feature name : dsr\n",
            " id : 113 , feature name : dual\n",
            " id : 114 , feature name : duane\n",
            " id : 115 , feature name : dubious\n",
            " id : 116 , feature name : dublin\n",
            " id : 117 , feature name : duc\n",
            " id : 118 , feature name : ducar\n",
            " id : 119 , feature name : ducati\n",
            " id : 120 , feature name : duchesne\n",
            " id : 121 , feature name : duck\n",
            " id : 122 , feature name : dss\n",
            " id : 123 , feature name : dsps\n",
            " id : 124 , feature name : dwelling\n",
            " id : 125 , feature name : drunken\n",
            " id : 126 , feature name : droves\n",
            " id : 127 , feature name : drowned\n",
            " id : 128 , feature name : drowning\n",
            " id : 129 , feature name : drs\n",
            " id : 130 , feature name : druce\n",
            " id : 131 , feature name : drug\n",
            " id : 132 , feature name : drugs\n",
            " id : 133 , feature name : drum\n",
            " id : 134 , feature name : drunk\n",
            " id : 135 , feature name : drv\n",
            " id : 136 , feature name : dsp\n",
            " id : 137 , feature name : dry\n",
            " id : 138 , feature name : dryden\n",
            " id : 139 , feature name : dryer\n",
            " id : 140 , feature name : drying\n",
            " id : 141 , feature name : ds\n",
            " id : 142 , feature name : dsc\n",
            " id : 143 , feature name : dsd\n",
            " id : 144 , feature name : dsinc\n",
            " id : 145 , feature name : dsl\n",
            " id : 146 , feature name : ducks\n",
            " id : 147 , feature name : duct\n",
            " id : 148 , feature name : dud\n",
            " id : 149 , feature name : dusseldorf\n",
            " id : 150 , feature name : duplicate\n",
            " id : 151 , feature name : duplicated\n",
            " id : 152 , feature name : duplication\n",
            " id : 153 , feature name : dupont\n",
            " id : 154 , feature name : durability\n",
            " id : 155 , feature name : durable\n",
            " id : 156 , feature name : duration\n",
            " id : 157 , feature name : durham\n",
            " id : 158 , feature name : dusk\n",
            " id : 159 , feature name : dust\n",
            " id : 160 , feature name : dude\n",
            " id : 161 , feature name : dusty\n",
            " id : 162 , feature name : dutch\n",
            " id : 163 , feature name : duties\n",
            " id : 164 , feature name : duty\n",
            " id : 165 , feature name : dv\n",
            " id : 166 , feature name : dvi\n",
            " id : 167 , feature name : dw\n",
            " id : 168 , feature name : dwarf\n",
            " id : 169 , feature name : eckton\n",
            " id : 170 , feature name : duplex\n",
            " id : 171 , feature name : duos\n",
            " id : 172 , feature name : duo\n",
            " id : 173 , feature name : dunya\n",
            " id : 174 , feature name : dudes\n",
            " id : 175 , feature name : dues\n",
            " id : 176 , feature name : duff\n",
            " id : 177 , feature name : dug\n",
            " id : 178 , feature name : dugout\n",
            " id : 179 , feature name : duh\n",
            " id : 180 , feature name : dui\n",
            " id : 181 , feature name : duke\n",
            " id : 182 , feature name : dull\n",
            " id : 183 , feature name : duly\n",
            " id : 184 , feature name : dumb\n",
            " id : 185 , feature name : dummy\n",
            " id : 186 , feature name : dump\n",
            " id : 187 , feature name : dumped\n",
            " id : 188 , feature name : dumping\n",
            " id : 189 , feature name : dumps\n",
            " id : 190 , feature name : duncan\n",
            " id : 191 , feature name : dunn\n",
            " id : 192 , feature name : dunno\n",
            " id : 193 , feature name : echoing\n",
            " id : 194 , feature name : zz\n",
            " id : 195 , feature name : eclipse\n",
            " id : 196 , feature name : electromagnetic\n",
            " id : 197 , feature name : election\n",
            " id : 198 , feature name : elections\n",
            " id : 199 , feature name : electorate\n"
          ],
          "name": "stdout"
        }
      ]
    },
    {
      "cell_type": "code",
      "metadata": {
        "id": "XO8SLP7UG6wF"
      },
      "source": [
        "top200XTrain = X_train[:,top200 ]\n",
        "top200XTest = X_test[:, top200]"
      ],
      "execution_count": 257,
      "outputs": []
    },
    {
      "cell_type": "code",
      "metadata": {
        "colab": {
          "base_uri": "https://localhost:8080/"
        },
        "id": "G-JFVQpSHpFP",
        "outputId": "0680e32f-4ad7-4acd-a5cd-975f856b4e9d"
      },
      "source": [
        "ngClassfierL1 = LogisticRegression(penalty='l1', tol =0.001, C = 1.0,n_jobs=-1, solver='saga',max_iter = 100)\n",
        "ngClassfierL1.fit(top200XTrain, y_train)\n"
      ],
      "execution_count": 258,
      "outputs": [
        {
          "output_type": "execute_result",
          "data": {
            "text/plain": [
              "LogisticRegression(C=1.0, class_weight=None, dual=False, fit_intercept=True,\n",
              "                   intercept_scaling=1, l1_ratio=None, max_iter=100,\n",
              "                   multi_class='auto', n_jobs=-1, penalty='l1',\n",
              "                   random_state=None, solver='saga', tol=0.001, verbose=0,\n",
              "                   warm_start=False)"
            ]
          },
          "metadata": {
            "tags": []
          },
          "execution_count": 258
        }
      ]
    },
    {
      "cell_type": "code",
      "metadata": {
        "colab": {
          "base_uri": "https://localhost:8080/"
        },
        "id": "4BobKfavHuqa",
        "outputId": "90223aea-55fc-4056-877e-073dbfc58cfb"
      },
      "source": [
        "ngClassfierL1.score(top200XTrain, y_train)"
      ],
      "execution_count": 259,
      "outputs": [
        {
          "output_type": "execute_result",
          "data": {
            "text/plain": [
              "0.1910343735149691"
            ]
          },
          "metadata": {
            "tags": []
          },
          "execution_count": 259
        }
      ]
    },
    {
      "cell_type": "code",
      "metadata": {
        "colab": {
          "base_uri": "https://localhost:8080/"
        },
        "id": "AiKOD0biH0Kk",
        "outputId": "d1021159-e130-45f0-e795-ced4232887f4"
      },
      "source": [
        "ngClassfierL1.score(top200XTest, y_test)"
      ],
      "execution_count": 260,
      "outputs": [
        {
          "output_type": "execute_result",
          "data": {
            "text/plain": [
              "0.17572347266881028"
            ]
          },
          "metadata": {
            "tags": []
          },
          "execution_count": 260
        }
      ]
    },
    {
      "cell_type": "code",
      "metadata": {
        "id": "Cs69rwCnFCr2"
      },
      "source": [
        "from sklearn.feature_selection import SelectFromModel\n",
        "from sklearn.svm import LinearSVC\n",
        "lsvc = LinearSVC(C=0.01, penalty=\"l1\", dual=False).fit(X_train, y_train)\n",
        "model = SelectFromModel(lsvc, prefit=True,)"
      ],
      "execution_count": 261,
      "outputs": []
    },
    {
      "cell_type": "code",
      "metadata": {
        "id": "LdkQz-xKFdby"
      },
      "source": [
        "X_new_train = model.transform(X_train)\n",
        "X_new_test = model.transform(X_test)"
      ],
      "execution_count": 262,
      "outputs": []
    },
    {
      "cell_type": "code",
      "metadata": {
        "colab": {
          "base_uri": "https://localhost:8080/"
        },
        "id": "Lb3teOxvIAMT",
        "outputId": "03f79e81-0f35-4a2d-a16f-ba3f1768dc73"
      },
      "source": [
        "ngClassfierL1 = LogisticRegression(penalty='l1', tol =0.001, C = 1.0,n_jobs=-1, solver='saga',max_iter = 100)\n",
        "ngClassfierL1.fit(X_new_train, y_train)\n"
      ],
      "execution_count": 263,
      "outputs": [
        {
          "output_type": "execute_result",
          "data": {
            "text/plain": [
              "LogisticRegression(C=1.0, class_weight=None, dual=False, fit_intercept=True,\n",
              "                   intercept_scaling=1, l1_ratio=None, max_iter=100,\n",
              "                   multi_class='auto', n_jobs=-1, penalty='l1',\n",
              "                   random_state=None, solver='saga', tol=0.001, verbose=0,\n",
              "                   warm_start=False)"
            ]
          },
          "metadata": {
            "tags": []
          },
          "execution_count": 263
        }
      ]
    },
    {
      "cell_type": "code",
      "metadata": {
        "colab": {
          "base_uri": "https://localhost:8080/"
        },
        "id": "PNFRXCVTFBJg",
        "outputId": "ac200fd9-f508-47d3-dbc4-feb420f2c196"
      },
      "source": [
        "ngClassfierL1.score(X_new_train,y_train)"
      ],
      "execution_count": 264,
      "outputs": [
        {
          "output_type": "execute_result",
          "data": {
            "text/plain": [
              "0.22144780611436718"
            ]
          },
          "metadata": {
            "tags": []
          },
          "execution_count": 264
        }
      ]
    },
    {
      "cell_type": "code",
      "metadata": {
        "colab": {
          "base_uri": "https://localhost:8080/"
        },
        "id": "SYVxNzJ4IJA7",
        "outputId": "ee9f03bf-da6a-4096-bdc9-2e17f039cee1"
      },
      "source": [
        "ngClassfierL1.score(X_new_test,y_test)"
      ],
      "execution_count": 265,
      "outputs": [
        {
          "output_type": "execute_result",
          "data": {
            "text/plain": [
              "0.22363344051446946"
            ]
          },
          "metadata": {
            "tags": []
          },
          "execution_count": 265
        }
      ]
    },
    {
      "cell_type": "code",
      "metadata": {
        "id": "MSKb_aNJUU6k"
      },
      "source": [
        ""
      ],
      "execution_count": null,
      "outputs": []
    }
  ]
}